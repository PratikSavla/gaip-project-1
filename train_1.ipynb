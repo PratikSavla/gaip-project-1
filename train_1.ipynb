{
  "nbformat": 4,
  "nbformat_minor": 0,
  "metadata": {
    "colab": {
      "name": "train-1.ipynb",
      "version": "0.3.2",
      "provenance": []
    },
    "kernelspec": {
      "name": "python3",
      "display_name": "Python 3"
    },
    "accelerator": "GPU"
  },
  "cells": [
    {
      "cell_type": "code",
      "metadata": {
        "id": "tne7aGYPLLJ7",
        "colab_type": "code",
        "colab": {
          "base_uri": "https://localhost:8080/",
          "height": 121
        },
        "outputId": "2da3c513-772e-4305-f5fc-75d91e81bae9"
      },
      "source": [
        "from google.colab import drive\n",
        "drive.mount('drive')"
      ],
      "execution_count": 2,
      "outputs": [
        {
          "output_type": "stream",
          "text": [
            "Go to this URL in a browser: https://accounts.google.com/o/oauth2/auth?client_id=947318989803-6bn6qk8qdgf4n4g3pfee6491hc0brc4i.apps.googleusercontent.com&redirect_uri=urn%3Aietf%3Awg%3Aoauth%3A2.0%3Aoob&scope=email%20https%3A%2F%2Fwww.googleapis.com%2Fauth%2Fdocs.test%20https%3A%2F%2Fwww.googleapis.com%2Fauth%2Fdrive%20https%3A%2F%2Fwww.googleapis.com%2Fauth%2Fdrive.photos.readonly%20https%3A%2F%2Fwww.googleapis.com%2Fauth%2Fpeopleapi.readonly&response_type=code\n",
            "\n",
            "Enter your authorization code:\n",
            "··········\n",
            "Mounted at drive\n"
          ],
          "name": "stdout"
        }
      ]
    },
    {
      "cell_type": "code",
      "metadata": {
        "id": "ECk9PhEOLQ_7",
        "colab_type": "code",
        "colab": {
          "base_uri": "https://localhost:8080/",
          "height": 34
        },
        "outputId": "35cb1d60-d386-48d1-94ef-21d7f9ed5e9c"
      },
      "source": [
        "!ls"
      ],
      "execution_count": 1,
      "outputs": [
        {
          "output_type": "stream",
          "text": [
            "'=1.8.0'   deepmedic   drive   sample_data\n"
          ],
          "name": "stdout"
        }
      ]
    },
    {
      "cell_type": "code",
      "metadata": {
        "id": "QBJTYQcLLc4s",
        "colab_type": "code",
        "colab": {
          "base_uri": "https://localhost:8080/",
          "height": 50
        },
        "outputId": "cf75bb18-47ce-4f87-8476-d70fefd9861a"
      },
      "source": [
        "%cd drive\n",
        "!ls"
      ],
      "execution_count": 1,
      "outputs": [
        {
          "output_type": "stream",
          "text": [
            "/content/drive\n",
            "'My Drive'\n"
          ],
          "name": "stdout"
        }
      ]
    },
    {
      "cell_type": "code",
      "metadata": {
        "id": "S4eswIWWLetq",
        "colab_type": "code",
        "colab": {
          "base_uri": "https://localhost:8080/",
          "height": 34
        },
        "outputId": "9d3fb34b-caa0-45a2-8621-6261efbdad70"
      },
      "source": [
        "%cd 'My Drive/BRATS2015'"
      ],
      "execution_count": 2,
      "outputs": [
        {
          "output_type": "stream",
          "text": [
            "/content/drive/My Drive/BRATS2015\n"
          ],
          "name": "stdout"
        }
      ]
    },
    {
      "cell_type": "code",
      "metadata": {
        "id": "xL8irehKLmJw",
        "colab_type": "code",
        "colab": {
          "base_uri": "https://localhost:8080/",
          "height": 67
        },
        "outputId": "06af0651-e0fa-435d-c6d5-2a60a5e06b33"
      },
      "source": [
        "!ls"
      ],
      "execution_count": 3,
      "outputs": [
        {
          "output_type": "stream",
          "text": [
            "data_visual_1.ipynb\t\ttesting    train.pkl\n",
            "Final_data_preprocessing.ipynb\ttrain.csv\n",
            "License_CC_BY_NC_SA_3.0.txt\ttraining\n"
          ],
          "name": "stdout"
        }
      ]
    },
    {
      "cell_type": "code",
      "metadata": {
        "id": "RqdLgaFzLojq",
        "colab_type": "code",
        "colab": {
          "base_uri": "https://localhost:8080/",
          "height": 34
        },
        "outputId": "9042f0e4-d56f-4be0-fe75-cd3177ad3b1f"
      },
      "source": [
        "!pip install SimpleITK\n",
        "import os\n",
        "import re\n",
        "import pandas as pd\n",
        "import SimpleITK as sitk\n",
        "import matplotlib.pyplot as plt\n",
        "import numpy as np\n",
        "reader = sitk.ImageFileReader()\n",
        "reader.SetImageIO(\"MetaImageIO\")"
      ],
      "execution_count": 4,
      "outputs": [
        {
          "output_type": "stream",
          "text": [
            "Requirement already satisfied: SimpleITK in /usr/local/lib/python3.6/dist-packages (1.2.0)\n"
          ],
          "name": "stdout"
        }
      ]
    },
    {
      "cell_type": "code",
      "metadata": {
        "id": "x57_c3YmLw2d",
        "colab_type": "code",
        "colab": {}
      },
      "source": [
        "train_hgg = os.listdir(\"training/HGG\")\n",
        "train_lgg = os.listdir(\"training/LGG\")"
      ],
      "execution_count": 0,
      "outputs": []
    },
    {
      "cell_type": "code",
      "metadata": {
        "id": "3YEGrSCHL4kt",
        "colab_type": "code",
        "colab": {}
      },
      "source": [
        "train_hg = {}\n",
        "for i in train_hgg:\n",
        "    train_hg[i] = \"training/HGG/\"+i+\"/\"+os.listdir(\"training/HGG/\"+i)[1]\n",
        "\n",
        "train_lg = {}\n",
        "for i in train_lgg:\n",
        "    train_lg[i] = \"training/LGG/\"+i+\"/\"+os.listdir(\"training/LGG/\"+i)[1]"
      ],
      "execution_count": 0,
      "outputs": []
    },
    {
      "cell_type": "code",
      "metadata": {
        "id": "WjaNRPCPL6S_",
        "colab_type": "code",
        "colab": {
          "base_uri": "https://localhost:8080/",
          "height": 50
        },
        "outputId": "d1caa3c0-6902-4c71-f781-ea3d84dd86f9"
      },
      "source": [
        "print(len(train_hg))\n",
        "print(len(train_lg))"
      ],
      "execution_count": 7,
      "outputs": [
        {
          "output_type": "stream",
          "text": [
            "220\n",
            "54\n"
          ],
          "name": "stdout"
        }
      ]
    },
    {
      "cell_type": "code",
      "metadata": {
        "id": "qtZi8S43L8Rw",
        "colab_type": "code",
        "colab": {}
      },
      "source": [
        "train_hg"
      ],
      "execution_count": 0,
      "outputs": []
    },
    {
      "cell_type": "code",
      "metadata": {
        "id": "vt3t95KfMAT5",
        "colab_type": "code",
        "colab": {}
      },
      "source": [
        "train = [[0],[0]]\n",
        "ii=0\n",
        "for i in train_hg:\n",
        "    inputImageFileName =  train_hg[i]\n",
        "    reader.SetFileName(inputImageFileName)\n",
        "    image = reader.Execute();\n",
        "    nda = sitk.GetArrayFromImage(image)\n",
        "    train[0].append(nda[10:146])\n",
        "    train[1].append(0)\n",
        "    ii=ii+1\n",
        "    if(ii==100):\n",
        "        break\n",
        "ii=0\n",
        "for i in train_lg:\n",
        "    inputImageFileName =  train_lg[i]\n",
        "    reader.SetFileName(inputImageFileName)\n",
        "    image = reader.Execute();\n",
        "    nda = sitk.GetArrayFromImage(image)\n",
        "    train[0].append(nda[10:146])\n",
        "    train[1].append(1)\n",
        "    ii+=1\n",
        "    if(ii==25):\n",
        "        break"
      ],
      "execution_count": 0,
      "outputs": []
    },
    {
      "cell_type": "code",
      "metadata": {
        "id": "8MBUe9gmMKJe",
        "colab_type": "code",
        "colab": {
          "base_uri": "https://localhost:8080/",
          "height": 34
        },
        "outputId": "422ab6ea-20ea-4c73-9e90-f69b2f960b5b"
      },
      "source": [
        "len(train[0])"
      ],
      "execution_count": 10,
      "outputs": [
        {
          "output_type": "execute_result",
          "data": {
            "text/plain": [
              "126"
            ]
          },
          "metadata": {
            "tags": []
          },
          "execution_count": 10
        }
      ]
    },
    {
      "cell_type": "code",
      "metadata": {
        "id": "ocCXM61aMMGA",
        "colab_type": "code",
        "colab": {}
      },
      "source": [
        "df = pd.DataFrame(train)"
      ],
      "execution_count": 0,
      "outputs": []
    },
    {
      "cell_type": "code",
      "metadata": {
        "id": "6bAgCQbaMSEq",
        "colab_type": "code",
        "colab": {}
      },
      "source": [
        "df = (df.transpose()).drop(0,axis=0)"
      ],
      "execution_count": 0,
      "outputs": []
    },
    {
      "cell_type": "code",
      "metadata": {
        "id": "LmOFl9nVSJ3K",
        "colab_type": "code",
        "colab": {}
      },
      "source": [
        "df = pd.get_dummies(df, columns=[1])"
      ],
      "execution_count": 0,
      "outputs": []
    },
    {
      "cell_type": "code",
      "metadata": {
        "id": "SROaNva9eL0F",
        "colab_type": "code",
        "colab": {}
      },
      "source": [
        "#df.head()"
      ],
      "execution_count": 0,
      "outputs": []
    },
    {
      "cell_type": "code",
      "metadata": {
        "id": "T6VBP_MEXJ9L",
        "colab_type": "code",
        "colab": {}
      },
      "source": [
        "a = np.vstack(df[0].values.tolist()).reshape(125,136,240,240)"
      ],
      "execution_count": 0,
      "outputs": []
    },
    {
      "cell_type": "code",
      "metadata": {
        "id": "CiQ0qc8vYmRq",
        "colab_type": "code",
        "colab": {
          "base_uri": "https://localhost:8080/",
          "height": 34
        },
        "outputId": "b745e1bd-bf8b-4990-82b9-26d9dfda0937"
      },
      "source": [
        "a.shape"
      ],
      "execution_count": 16,
      "outputs": [
        {
          "output_type": "execute_result",
          "data": {
            "text/plain": [
              "(125, 136, 240, 240)"
            ]
          },
          "metadata": {
            "tags": []
          },
          "execution_count": 16
        }
      ]
    },
    {
      "cell_type": "code",
      "metadata": {
        "id": "SrR00w4Nc3kO",
        "colab_type": "code",
        "colab": {
          "base_uri": "https://localhost:8080/",
          "height": 34
        },
        "outputId": "7954ddeb-4135-4caf-e599-b85b490fd22d"
      },
      "source": [
        "a[0][1].shape"
      ],
      "execution_count": 17,
      "outputs": [
        {
          "output_type": "execute_result",
          "data": {
            "text/plain": [
              "(240, 240)"
            ]
          },
          "metadata": {
            "tags": []
          },
          "execution_count": 17
        }
      ]
    },
    {
      "cell_type": "code",
      "metadata": {
        "id": "A9SP00dxcn8f",
        "colab_type": "code",
        "colab": {
          "base_uri": "https://localhost:8080/",
          "height": 269
        },
        "outputId": "8734ca72-6cb5-4db9-a964-09d9fdbb2323"
      },
      "source": [
        "plt.imshow(a[11][1])\n",
        "plt.show()"
      ],
      "execution_count": 37,
      "outputs": [
        {
          "output_type": "display_data",
          "data": {
            "image/png": "[encoded data removed]",
            "text/plain": [
              "<Figure size 432x288 with 1 Axes>"
            ]
          },
          "metadata": {
            "tags": []
          }
        }
      ]
    },
    {
      "cell_type": "code",
      "metadata": {
        "id": "v9VxlOf3SJ5w",
        "colab_type": "code",
        "colab": {}
      },
      "source": [
        "from sklearn.model_selection import train_test_split\n",
        "x_train, x_test, y_train, y_test = train_test_split(a, df.drop([0],axis=1), test_size = 0.2, random_state = 0)"
      ],
      "execution_count": 0,
      "outputs": []
    },
    {
      "cell_type": "code",
      "metadata": {
        "id": "AMJWHIjHSJ8G",
        "colab_type": "code",
        "colab": {
          "base_uri": "https://localhost:8080/",
          "height": 84
        },
        "outputId": "ad208c32-5ef1-4efa-8926-f1d8f5698077"
      },
      "source": [
        "print(\"x_train.shape \", x_train.shape)\n",
        "print(\"y_train.shape \", y_train.shape)\n",
        "print(\"x_test.shape \", x_test.shape)\n",
        "print(\"y_test.shape \", y_test.shape)"
      ],
      "execution_count": 20,
      "outputs": [
        {
          "output_type": "stream",
          "text": [
            "x_train.shape  (100, 136, 240, 240)\n",
            "y_train.shape  (100, 2)\n",
            "x_test.shape  (25, 136, 240, 240)\n",
            "y_test.shape  (25, 2)\n"
          ],
          "name": "stdout"
        }
      ]
    },
    {
      "cell_type": "code",
      "metadata": {
        "id": "1s4v99_igNrZ",
        "colab_type": "code",
        "colab": {}
      },
      "source": [
        "y_test"
      ],
      "execution_count": 0,
      "outputs": []
    },
    {
      "cell_type": "code",
      "metadata": {
        "id": "rKiQfeBegW-P",
        "colab_type": "code",
        "colab": {}
      },
      "source": [
        "y_train"
      ],
      "execution_count": 0,
      "outputs": []
    },
    {
      "cell_type": "code",
      "metadata": {
        "id": "iPdDIKQMUaxT",
        "colab_type": "code",
        "colab": {
          "base_uri": "https://localhost:8080/",
          "height": 34
        },
        "outputId": "afe5850e-5339-43e9-b4cf-4694f5056ab5"
      },
      "source": [
        "import numpy\n",
        "import keras\n",
        "from keras import backend as K\n",
        "from keras.datasets import mnist\n",
        "from keras.utils import np_utils\n",
        "from keras.layers import Dense, Dropout,Flatten\n",
        "from keras.layers.convolutional import Conv2D, MaxPooling2D\n",
        "from keras.models import Sequential\n",
        "import pandas as pd"
      ],
      "execution_count": 23,
      "outputs": [
        {
          "output_type": "stream",
          "text": [
            "Using TensorFlow backend.\n"
          ],
          "name": "stderr"
        }
      ]
    },
    {
      "cell_type": "code",
      "metadata": {
        "id": "p37HISBCVata",
        "colab_type": "code",
        "colab": {}
      },
      "source": [
        "batch_size = 32\n",
        "num_classes = 2\n",
        "epochs = 12\n",
        "input_shape = x_train[0].shape"
      ],
      "execution_count": 0,
      "outputs": []
    },
    {
      "cell_type": "code",
      "metadata": {
        "id": "O3MuqGdQVDZ3",
        "colab_type": "code",
        "colab": {
          "base_uri": "https://localhost:8080/",
          "height": 238
        },
        "outputId": "aeaddf58-19db-4a18-9a83-d712c128a578"
      },
      "source": [
        "model = Sequential()\n",
        "model.add(Conv2D(32, kernel_size=(3, 3),\n",
        "                 activation='relu',\n",
        "                 input_shape=input_shape))\n",
        "model.add(Conv2D(64, (3, 3), activation='relu'))\n",
        "model.add(Dropout(0.5))\n",
        "model.add(Flatten())\n",
        "model.add(Dense(64, activation='relu'))\n",
        "model.add(Dropout(0.5))\n",
        "model.add(Dense(num_classes, activation='softmax'))"
      ],
      "execution_count": 25,
      "outputs": [
        {
          "output_type": "stream",
          "text": [
            "WARNING: Logging before flag parsing goes to stderr.\n",
            "W0616 13:58:48.329190 140258460043136 deprecation_wrapper.py:119] From /usr/local/lib/python3.6/dist-packages/keras/backend/tensorflow_backend.py:74: The name tf.get_default_graph is deprecated. Please use tf.compat.v1.get_default_graph instead.\n",
            "\n",
            "W0616 13:58:48.369479 140258460043136 deprecation_wrapper.py:119] From /usr/local/lib/python3.6/dist-packages/keras/backend/tensorflow_backend.py:517: The name tf.placeholder is deprecated. Please use tf.compat.v1.placeholder instead.\n",
            "\n",
            "W0616 13:58:48.379106 140258460043136 deprecation_wrapper.py:119] From /usr/local/lib/python3.6/dist-packages/keras/backend/tensorflow_backend.py:4138: The name tf.random_uniform is deprecated. Please use tf.random.uniform instead.\n",
            "\n",
            "W0616 13:58:48.414928 140258460043136 deprecation_wrapper.py:119] From /usr/local/lib/python3.6/dist-packages/keras/backend/tensorflow_backend.py:133: The name tf.placeholder_with_default is deprecated. Please use tf.compat.v1.placeholder_with_default instead.\n",
            "\n",
            "W0616 13:58:48.424639 140258460043136 deprecation.py:506] From /usr/local/lib/python3.6/dist-packages/keras/backend/tensorflow_backend.py:3445: calling dropout (from tensorflow.python.ops.nn_ops) with keep_prob is deprecated and will be removed in a future version.\n",
            "Instructions for updating:\n",
            "Please use `rate` instead of `keep_prob`. Rate should be set to `rate = 1 - keep_prob`.\n"
          ],
          "name": "stderr"
        }
      ]
    },
    {
      "cell_type": "code",
      "metadata": {
        "id": "8jW9wx2jVS_2",
        "colab_type": "code",
        "colab": {
          "base_uri": "https://localhost:8080/",
          "height": 104
        },
        "outputId": "e6c1579d-4898-4cd1-b06c-d3a70d90ccf7"
      },
      "source": [
        "model.compile(loss=keras.losses.categorical_crossentropy,\n",
        "              optimizer=keras.optimizers.Adadelta(),\n",
        "              metrics=['accuracy'])"
      ],
      "execution_count": 26,
      "outputs": [
        {
          "output_type": "stream",
          "text": [
            "W0616 13:58:48.567726 140258460043136 deprecation_wrapper.py:119] From /usr/local/lib/python3.6/dist-packages/keras/optimizers.py:790: The name tf.train.Optimizer is deprecated. Please use tf.compat.v1.train.Optimizer instead.\n",
            "\n",
            "W0616 13:58:48.580798 140258460043136 deprecation_wrapper.py:119] From /usr/local/lib/python3.6/dist-packages/keras/backend/tensorflow_backend.py:3295: The name tf.log is deprecated. Please use tf.math.log instead.\n",
            "\n"
          ],
          "name": "stderr"
        }
      ]
    },
    {
      "cell_type": "code",
      "metadata": {
        "id": "Nkkbwf1gVrZb",
        "colab_type": "code",
        "colab": {
          "base_uri": "https://localhost:8080/",
          "height": 370
        },
        "outputId": "a719811c-3aaa-45fe-a6e6-50275f017fb1"
      },
      "source": [
        "model.summary()"
      ],
      "execution_count": 27,
      "outputs": [
        {
          "output_type": "stream",
          "text": [
            "_________________________________________________________________\n",
            "Layer (type)                 Output Shape              Param #   \n",
            "=================================================================\n",
            "conv2d_1 (Conv2D)            (None, 134, 238, 32)      69152     \n",
            "_________________________________________________________________\n",
            "conv2d_2 (Conv2D)            (None, 132, 236, 64)      18496     \n",
            "_________________________________________________________________\n",
            "dropout_1 (Dropout)          (None, 132, 236, 64)      0         \n",
            "_________________________________________________________________\n",
            "flatten_1 (Flatten)          (None, 1993728)           0         \n",
            "_________________________________________________________________\n",
            "dense_1 (Dense)              (None, 64)                127598656 \n",
            "_________________________________________________________________\n",
            "dropout_2 (Dropout)          (None, 64)                0         \n",
            "_________________________________________________________________\n",
            "dense_2 (Dense)              (None, 2)                 130       \n",
            "=================================================================\n",
            "Total params: 127,686,434\n",
            "Trainable params: 127,686,434\n",
            "Non-trainable params: 0\n",
            "_________________________________________________________________\n"
          ],
          "name": "stdout"
        }
      ]
    },
    {
      "cell_type": "code",
      "metadata": {
        "id": "abNsjG6TVTRP",
        "colab_type": "code",
        "colab": {
          "base_uri": "https://localhost:8080/",
          "height": 454
        },
        "outputId": "ff2e88a1-9f27-42a9-d42d-2762a9891bf8"
      },
      "source": [
        "model.fit(x_train, y_train,\n",
        "          epochs=epochs,\n",
        "          verbose=1,\n",
        "          validation_data=(x_test, y_test))\n",
        "#score = model.evaluate(x_test, y_test, verbose=0)"
      ],
      "execution_count": 31,
      "outputs": [
        {
          "output_type": "stream",
          "text": [
            "Train on 100 samples, validate on 25 samples\n",
            "Epoch 1/12\n",
            "100/100 [==============================] - 6s 60ms/step - loss: 3.8683 - acc: 0.7600 - val_loss: 0.6447 - val_acc: 0.9600\n",
            "Epoch 2/12\n",
            "100/100 [==============================] - 6s 62ms/step - loss: 3.8683 - acc: 0.7600 - val_loss: 0.6447 - val_acc: 0.9600\n",
            "Epoch 3/12\n",
            "100/100 [==============================] - 6s 62ms/step - loss: 3.8683 - acc: 0.7600 - val_loss: 0.6447 - val_acc: 0.9600\n",
            "Epoch 4/12\n",
            "100/100 [==============================] - 6s 63ms/step - loss: 3.8683 - acc: 0.7600 - val_loss: 0.6447 - val_acc: 0.9600\n",
            "Epoch 5/12\n",
            "100/100 [==============================] - 6s 62ms/step - loss: 3.8683 - acc: 0.7600 - val_loss: 0.6447 - val_acc: 0.9600\n",
            "Epoch 6/12\n",
            "100/100 [==============================] - 6s 62ms/step - loss: 3.8683 - acc: 0.7600 - val_loss: 0.6447 - val_acc: 0.9600\n",
            "Epoch 7/12\n",
            "100/100 [==============================] - 6s 63ms/step - loss: 3.8683 - acc: 0.7600 - val_loss: 0.6447 - val_acc: 0.9600\n",
            "Epoch 8/12\n",
            "100/100 [==============================] - 6s 62ms/step - loss: 3.8683 - acc: 0.7600 - val_loss: 0.6447 - val_acc: 0.9600\n",
            "Epoch 9/12\n",
            "100/100 [==============================] - 6s 63ms/step - loss: 3.8683 - acc: 0.7600 - val_loss: 0.6447 - val_acc: 0.9600\n",
            "Epoch 10/12\n",
            "100/100 [==============================] - 6s 63ms/step - loss: 3.8683 - acc: 0.7600 - val_loss: 0.6447 - val_acc: 0.9600\n",
            "Epoch 11/12\n",
            "100/100 [==============================] - 6s 63ms/step - loss: 3.8683 - acc: 0.7600 - val_loss: 0.6447 - val_acc: 0.9600\n",
            "Epoch 12/12\n",
            "100/100 [==============================] - 6s 62ms/step - loss: 3.8683 - acc: 0.7600 - val_loss: 0.6447 - val_acc: 0.9600\n"
          ],
          "name": "stdout"
        },
        {
          "output_type": "execute_result",
          "data": {
            "text/plain": [
              "<keras.callbacks.History at 0x7f900c1cd6d8>"
            ]
          },
          "metadata": {
            "tags": []
          },
          "execution_count": 31
        }
      ]
    },
    {
      "cell_type": "code",
      "metadata": {
        "id": "bR_E_MYcWGL0",
        "colab_type": "code",
        "colab": {
          "base_uri": "https://localhost:8080/",
          "height": 34
        },
        "outputId": "a8a90cb0-495f-4358-e9d6-e92a6ecff7b6"
      },
      "source": [
        "score"
      ],
      "execution_count": 30,
      "outputs": [
        {
          "output_type": "execute_result",
          "data": {
            "text/plain": [
              "[0.6447239518165588, 0.9599999785423279]"
            ]
          },
          "metadata": {
            "tags": []
          },
          "execution_count": 30
        }
      ]
    },
    {
      "cell_type": "code",
      "metadata": {
        "id": "6Rxm3w7SXCcU",
        "colab_type": "code",
        "colab": {}
      },
      "source": [
        ""
      ],
      "execution_count": 0,
      "outputs": []
    }
  ]
}